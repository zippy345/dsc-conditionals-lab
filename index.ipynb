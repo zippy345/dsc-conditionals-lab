{
 "cells": [
  {
   "cell_type": "markdown",
   "metadata": {},
   "source": [
    "# Control Flow: Conditionals - Lab\n",
    "\n",
    "## Introduction\n",
    "Now that you have been introduced to conditionals, let's put your knowledge to test and create some conditional statements that selectively assign values to variables based on whether they pass the conditions we set.\n",
    "\n",
    "## Objectives\n",
    "\n",
    "You will be able to:\n",
    "\n",
    "* Use Python conditional statements\n",
    "\n",
    "## Instructions\n",
    "\n",
    "Let's use our knowledge of variables and conditionals to assign values based on different conditions. Follow the instructions below to properly assign the values.\n",
    "\n",
    "With the given code in the cell below, use what you know about numbers and conditionals to assign a value to `my_number` and follow the directions given in the comments below. Use this as a guide to structuring the rest of the problems in this lab."
   ]
  },
  {
   "cell_type": "code",
   "execution_count": null,
   "metadata": {},
   "outputs": [],
   "source": [
    "number_50 = 50\n",
    "my_number = None\n",
    "if number_50 > 100:\n",
    "    # if number_50 is greater than 100, assign the `my_number` variable to the number 100\n",
    "elif number_50 > 50:\n",
    "    # if number_50 is greater than 50, assign the `my_number` variable to the number 50\n",
    "else:\n",
    "    # else assign the `my_number` variable to 0"
   ]
  },
  {
   "cell_type": "markdown",
   "metadata": {},
   "source": [
    "Below, use conditionals to tell whether it is hot outside or not. If it is hot, assign the string `\"It is so hot out!\"` to the variable `is_it_hot`. If it is not hot, assign the string `\"This is nothing! Bring on the heat.\"`. For our purposes, anything over `80` degrees is considered hot."
   ]
  },
  {
   "cell_type": "code",
   "execution_count": 4,
   "metadata": {},
   "outputs": [
    {
     "name": "stdout",
     "output_type": "stream",
     "text": [
      "it is so hot out!\n"
     ]
    }
   ],
   "source": [
    "temperature = 85\n",
    "is_it_hot = None\n",
    "if temperature < 80:\n",
    "    is_it_hot =\"This is is nothing! Bring the heat.\"\n",
    "elif temperature >= temperature :     \n",
    "       print(\"it is so hot out!\")\n",
    "elif temperature == 35:\n",
    "     print(\"the temperature is normall\")\n",
    "else:\n",
    "    print(\"there are no temperature readings found\")\n",
    "# conditionals go here"
   ]
  },
  {
   "cell_type": "markdown",
   "metadata": {},
   "source": [
    "Next, let's see what day of the week it is. There are 7 days in the week starting with Sunday at day `1` and ending with Saturday at day `7`. Use conditional statements to assign the day of the week to the variable `day_of_the_week` based on the number below assigned to the variable `today_is`.\n",
    "For example, if the day is `2`, we would assign `day_of_the_week` the value `\"Monday\"`."
   ]
  },
  {
   "cell_type": "code",
   "execution_count": 7,
   "metadata": {},
   "outputs": [
    {
     "name": "stdout",
     "output_type": "stream",
     "text": [
      "unidentified\n"
     ]
    }
   ],
   "source": [
    "today_is = 4\n",
    "day_of_the_week = None\n",
    "if today_is == 1 :\n",
    "    print(\"sunday\")\n",
    "elif today_is == 2 :\n",
    "    print(\"Monday\")\n",
    "elif today_is == 7 :\n",
    "    print( \"saturday\")\n",
    "else:\n",
    "    print (\"unidentified\")\n",
    "\n",
    "# conditionals go here"
   ]
  },
  {
   "cell_type": "markdown",
   "metadata": {},
   "source": [
    "Finally, let's take a string and see if it ends with a certain substring. If it does, assign the variable `ends_with` to `True`, and if it does not, assign it to `False`. For example, if have the string \"School\" and we want to know if it ends with the sub-string \"cool\". In this case it does not, so, we would assign `False` to the variable `ends_with`. "
   ]
  },
  {
   "cell_type": "code",
   "execution_count": 12,
   "metadata": {},
   "outputs": [
    {
     "name": "stdout",
     "output_type": "stream",
     "text": [
      "False\n"
     ]
    }
   ],
   "source": [
    "string = \"Juma Andasone\"\n",
    "sub_string = \"Andasone\"\n",
    "ends_with = None\n",
    "if string.endswith(\"Andasone\") == sub_string :\n",
    "    print( True)\n",
    "else:\n",
    "    print(False)\n",
    "# conditionals go here"
   ]
  },
  {
   "attachments": {},
   "cell_type": "markdown",
   "metadata": {},
   "source": [
    "## Summary\n",
    "\n",
    "Great! In this lab we saw how to use our knowledge of conditionals to selectively assign values based on a condition. We will start integrating conditionals in many more ways in our code and we will start to see how useful they can become in more complex problems."
   ]
  }
 ],
 "metadata": {
  "kernelspec": {
   "display_name": "Python 3 (ipykernel)",
   "language": "python",
   "name": "python3"
  },
  "language_info": {
   "codemirror_mode": {
    "name": "ipython",
    "version": 3
   },
   "file_extension": ".py",
   "mimetype": "text/x-python",
   "name": "python",
   "nbconvert_exporter": "python",
   "pygments_lexer": "ipython3",
   "version": "3.12.7"
  },
  "toc": {
   "base_numbering": 1,
   "nav_menu": {},
   "number_sections": true,
   "sideBar": true,
   "skip_h1_title": false,
   "title_cell": "Table of Contents",
   "title_sidebar": "Contents",
   "toc_cell": false,
   "toc_position": {},
   "toc_section_display": true,
   "toc_window_display": false
  }
 },
 "nbformat": 4,
 "nbformat_minor": 4
}
